{
 "cells": [
  {
   "cell_type": "markdown",
   "metadata": {},
   "source": [
    "# Self-Driving Car Engineer Nanodegree\n",
    "\n",
    "## Deep Learning\n",
    "\n",
    "## Project: Build a Traffic Sign Recognition Classifier\n",
    "\n",
    "In this notebook, a template is provided for you to implement your functionality in stages, which is required to successfully complete this project. If additional code is required that cannot be included in the notebook, be sure that the Python code is successfully imported and included in your submission if necessary. \n",
    "\n",
    "> **Note**: Once you have completed all of the code implementations, you need to finalize your work by exporting the iPython Notebook as an HTML document. Before exporting the notebook to html, all of the code cells need to have been run so that reviewers can see the final implementation and output. You can then export the notebook by using the menu above and navigating to  \\n\",\n",
    "    \"**File -> Download as -> HTML (.html)**. Include the finished document along with this notebook as your submission. \n",
    "\n",
    "In addition to implementing code, there is a writeup to complete. The writeup should be completed in a separate file, which can be either a markdown file or a pdf document. There is a [write up template](https://github.com/udacity/CarND-Traffic-Sign-Classifier-Project/blob/master/writeup_template.md) that can be used to guide the writing process. Completing the code template and writeup template will cover all of the [rubric points](https://review.udacity.com/#!/rubrics/481/view) for this project.\n",
    "\n",
    "The [rubric](https://review.udacity.com/#!/rubrics/481/view) contains \"Stand Out Suggestions\" for enhancing the project beyond the minimum requirements. The stand out suggestions are optional. If you decide to pursue the \"stand out suggestions\", you can include the code in this Ipython notebook and also discuss the results in the writeup file.\n",
    "\n",
    "\n",
    ">**Note:** Code and Markdown cells can be executed using the **Shift + Enter** keyboard shortcut. In addition, Markdown cells can be edited by typically double-clicking the cell to enter edit mode."
   ]
  },
  {
   "cell_type": "markdown",
   "metadata": {},
   "source": [
    "---\n",
    "## Step 0: Load The Data"
   ]
  },
  {
   "cell_type": "markdown",
   "metadata": {},
   "source": [
    "#### Preprocessor\n",
    "This function is used both for training and for prediction. All it does is it converts images to grayscale."
   ]
  },
  {
   "cell_type": "code",
   "execution_count": 1,
   "metadata": {},
   "outputs": [],
   "source": [
    "# Images preprocessor\n",
    "def preprocess_X(images):\n",
    "    \"\"\"Calculates averages for all images RGB values and returns with shape: (numimgs, width, height, 1)\"\"\"\n",
    "    rgb_avg = np.mean(images, axis=3)\n",
    "    extended = np.expand_dims(rgb_avg, axis=3)\n",
    "    return extended"
   ]
  },
  {
   "cell_type": "code",
   "execution_count": 2,
   "metadata": {},
   "outputs": [],
   "source": [
    "# Load pickled data\n",
    "import pickle\n",
    "\n",
    "# TODO: Fill this in based on where you saved the training and testing data\n",
    "\n",
    "training_file = '../data/train.p'\n",
    "validation_file= '../data/valid.p'\n",
    "testing_file = '../data/test.p'\n",
    "\n",
    "with open(training_file, mode='rb') as f:\n",
    "    train = pickle.load(f)\n",
    "with open(validation_file, mode='rb') as f:\n",
    "    valid = pickle.load(f)\n",
    "with open(testing_file, mode='rb') as f:\n",
    "    test = pickle.load(f)\n",
    "\n",
    "import numpy as np\n",
    "X_train_raw, y_train = np.array(train['features'], dtype=np.uint8), np.array(train['labels'], dtype=np.uint8)\n",
    "X_valid_raw, y_valid = np.array(valid['features'], dtype=np.uint8), np.array(valid['labels'], dtype=np.uint8)\n",
    "X_test_raw, y_test   = np.array(test['features'],  dtype=np.uint8), np.array(test['labels'],  dtype=np.uint8)\n",
    "\n",
    "#print('before',X_train_raw[0][0])\n",
    "X_train_raw = preprocess_X(X_train_raw)\n",
    "#print('after',X_train_raw[0][0])\n",
    "X_valid_raw = preprocess_X(X_valid_raw)\n",
    "X_test_raw = preprocess_X(X_test_raw)"
   ]
  },
  {
   "cell_type": "markdown",
   "metadata": {},
   "source": [
    "---\n",
    "\n",
    "## Step 1: Dataset Summary & Exploration\n",
    "\n",
    "The pickled data is a dictionary with 4 key/value pairs:\n",
    "\n",
    "- `'features'` is a 4D array containing raw pixel data of the traffic sign images, (num examples, width, height, channels).\n",
    "- `'labels'` is a 1D array containing the label/class id of the traffic sign. The file `signnames.csv` contains id -> name mappings for each id.\n",
    "- `'sizes'` is a list containing tuples, (width, height) representing the original width and height the image.\n",
    "- `'coords'` is a list containing tuples, (x1, y1, x2, y2) representing coordinates of a bounding box around the sign in the image. **THESE COORDINATES ASSUME THE ORIGINAL IMAGE. THE PICKLED DATA CONTAINS RESIZED VERSIONS (32 by 32) OF THESE IMAGES**\n",
    "\n",
    "Complete the basic data summary below. Use python, numpy and/or pandas methods to calculate the data summary rather than hard coding the results. For example, the [pandas shape method](http://pandas.pydata.org/pandas-docs/stable/generated/pandas.DataFrame.shape.html) might be useful for calculating some of the summary results. "
   ]
  },
  {
   "cell_type": "markdown",
   "metadata": {},
   "source": [
    "### Provide a Basic Summary of the Data Set Using Python, Numpy and/or Pandas"
   ]
  },
  {
   "cell_type": "code",
   "execution_count": 3,
   "metadata": {},
   "outputs": [
    {
     "name": "stdout",
     "output_type": "stream",
     "text": [
      "Number of training examples = 34799\n",
      "Number of validation examples =  4410\n",
      "Number of testing examples = 12630\n",
      "Image data shape = (32, 32, 1)\n",
      "Number of classes = 43\n",
      "Classes:  [ 0  1  2  3  4  5  6  7  8  9 10 11 12 13 14 15 16 17 18 19 20 21 22 23 24\n",
      " 25 26 27 28 29 30 31 32 33 34 35 36 37 38 39 40 41 42]\n"
     ]
    }
   ],
   "source": [
    "### Replace each question mark with the appropriate value. \n",
    "### Use python, pandas or numpy methods rather than hard coding the results\n",
    "\n",
    "# Number of training examples\n",
    "n_train = X_train_raw.shape[0]\n",
    "\n",
    "# Number of validation examples\n",
    "n_validation = X_valid_raw.shape[0]\n",
    "\n",
    "# Number of testing examples.\n",
    "n_test = X_test_raw.shape[0]\n",
    "\n",
    "# What's the shape of an traffic sign image?\n",
    "image_shape = X_train_raw.shape[1:]\n",
    "\n",
    "# How many unique classes/labels there are in the dataset.\n",
    "import numpy as np\n",
    "classes = np.unique(y_train)\n",
    "n_classes = len(classes)\n",
    "\n",
    "print(\"Number of training examples =\", n_train)\n",
    "print(\"Number of validation examples = \", n_validation)\n",
    "print(\"Number of testing examples =\", n_test)\n",
    "print(\"Image data shape =\", image_shape)\n",
    "print(\"Number of classes =\", n_classes)\n",
    "print(\"Classes: \", classes)"
   ]
  },
  {
   "cell_type": "markdown",
   "metadata": {},
   "source": [
    "### Include an exploratory visualization of the dataset"
   ]
  },
  {
   "cell_type": "markdown",
   "metadata": {},
   "source": [
    "Visualize the German Traffic Signs Dataset using the pickled file(s). This is open ended, suggestions include: plotting traffic sign images, plotting the count of each sign, etc. \n",
    "\n",
    "The [Matplotlib](http://matplotlib.org/) [examples](http://matplotlib.org/examples/index.html) and [gallery](http://matplotlib.org/gallery.html) pages are a great resource for doing visualizations in Python.\n",
    "\n",
    "**NOTE:** It's recommended you start with something simple first. If you wish to do more, come back to it after you've completed the rest of the sections. It can be interesting to look at the distribution of classes in the training, validation and test set. Is the distribution the same? Are there more examples of some classes than others?"
   ]
  },
  {
   "cell_type": "code",
   "execution_count": 31,
   "metadata": {},
   "outputs": [
    {
     "name": "stdout",
     "output_type": "stream",
     "text": [
      "26\n"
     ]
    },
    {
     "data": {
      "text/plain": [
       "<matplotlib.figure.Figure at 0x7f86e5f5ca20>"
      ]
     },
     "execution_count": 31,
     "metadata": {},
     "output_type": "execute_result"
    },
    {
     "data": {
      "image/png": "[encoded data removed]",
      "text/plain": [
       "<matplotlib.figure.Figure at 0x7f87384269b0>"
      ]
     },
     "metadata": {
      "needs_background": "light"
     },
     "output_type": "display_data"
    },
    {
     "data": {
      "text/plain": [
       "<matplotlib.figure.Figure at 0x7f86e5f5ca20>"
      ]
     },
     "metadata": {},
     "output_type": "display_data"
    }
   ],
   "source": [
    "### Data exploration visualization code goes here.\n",
    "### Feel free to use as many code cells as needed.\n",
    "import matplotlib.pyplot as plt\n",
    "# Visualizations will be shown in the notebook.\n",
    "%matplotlib inline\n",
    "\n",
    "import random\n",
    "import numpy as np\n",
    "\n",
    "index = random.randint(0, len(X_train_raw))\n",
    "image = X_train_raw[index].squeeze()\n",
    "\n",
    "plt.figure(figsize=(4,4))\n",
    "plt.title('Example')\n",
    "plt.imshow(image, cmap='gray')\n",
    "print(y_train[index])\n",
    "\n",
    "plt.figure(figsize=(5,5))"
   ]
  },
  {
   "cell_type": "markdown",
   "metadata": {},
   "source": [
    "#### Distribution of signs"
   ]
  },
  {
   "cell_type": "code",
   "execution_count": 5,
   "metadata": {},
   "outputs": [
    {
     "data": {
      "image/png": "[encoded data removed]",
      "text/plain": [
       "<matplotlib.figure.Figure at 0x7f8718604080>"
      ]
     },
     "metadata": {
      "needs_background": "light"
     },
     "output_type": "display_data"
    }
   ],
   "source": [
    "_ = plt.figure(figsize=(12,6))\n",
    "_ = plt.title('Frequency of signs')\n",
    "_ = plt.hist((y_train, y_valid, y_test), histtype='step', label=('Train', 'Validation', 'Test'), bins=43, density=True, stacked=False)\n",
    "_ = plt.legend()"
   ]
  },
  {
   "cell_type": "markdown",
   "metadata": {},
   "source": [
    "----\n",
    "\n",
    "## Step 2: Design and Test a Model Architecture\n",
    "\n",
    "Design and implement a deep learning model that learns to recognize traffic signs. Train and test your model on the [German Traffic Sign Dataset](http://benchmark.ini.rub.de/?section=gtsrb&subsection=dataset).\n",
    "\n",
    "The LeNet-5 implementation shown in the [classroom](https://classroom.udacity.com/nanodegrees/nd013/parts/fbf77062-5703-404e-b60c-95b78b2f3f9e/modules/6df7ae49-c61c-4bb2-a23e-6527e69209ec/lessons/601ae704-1035-4287-8b11-e2c2716217ad/concepts/d4aca031-508f-4e0b-b493-e7b706120f81) at the end of the CNN lesson is a solid starting point. You'll have to change the number of classes and possibly the preprocessing, but aside from that it's plug and play! \n",
    "\n",
    "With the LeNet-5 solution from the lecture, you should expect a validation set accuracy of about 0.89. To meet specifications, the validation set accuracy will need to be at least 0.93. It is possible to get an even higher accuracy, but 0.93 is the minimum for a successful project submission. \n",
    "\n",
    "There are various aspects to consider when thinking about this problem:\n",
    "\n",
    "- Neural network architecture (is the network over or underfitting?)\n",
    "- Play around preprocessing techniques (normalization, rgb to grayscale, etc)\n",
    "- Number of examples per label (some have more than others).\n",
    "- Generate fake data.\n",
    "\n",
    "Here is an example of a [published baseline model on this problem](http://yann.lecun.com/exdb/publis/pdf/sermanet-ijcnn-11.pdf). It's not required to be familiar with the approach used in the paper but, it's good practice to try to read papers like these."
   ]
  },
  {
   "cell_type": "markdown",
   "metadata": {},
   "source": [
    "### Pre-process the Data Set (normalization, grayscale, etc.)"
   ]
  },
  {
   "cell_type": "markdown",
   "metadata": {},
   "source": [
    "Minimally, the image data should be normalized so that the data has mean zero and equal variance. For image data, `(pixel - 128)/ 128` is a quick way to approximately normalize the data and can be used in this project. \n",
    "\n",
    "Other pre-processing steps are optional. You can try different techniques to see if it improves performance. \n",
    "\n",
    "Use the code cell (or multiple code cells, if necessary) to implement the first step of your project."
   ]
  },
  {
   "cell_type": "code",
   "execution_count": 6,
   "metadata": {},
   "outputs": [
    {
     "name": "stdout",
     "output_type": "stream",
     "text": [
      "Example before normalization (one row of an image with averaged colors): [[ 25.66666667]\n",
      " [ 24.66666667]\n",
      " [ 24.33333333]\n",
      " [ 24.33333333]\n",
      " [ 25.        ]\n",
      " [ 27.        ]\n",
      " [ 41.66666667]\n",
      " [ 39.        ]\n",
      " [ 35.        ]\n",
      " [ 45.66666667]\n",
      " [ 77.66666667]\n",
      " [ 93.        ]\n",
      " [ 77.        ]\n",
      " [ 75.        ]\n",
      " [ 87.33333333]\n",
      " [ 94.        ]\n",
      " [ 75.33333333]\n",
      " [ 62.66666667]\n",
      " [ 51.        ]\n",
      " [ 46.33333333]\n",
      " [ 53.33333333]\n",
      " [ 62.66666667]\n",
      " [ 43.66666667]\n",
      " [ 43.33333333]\n",
      " [ 45.        ]\n",
      " [ 39.33333333]\n",
      " [ 31.33333333]\n",
      " [ 29.33333333]\n",
      " [ 28.66666667]\n",
      " [ 28.        ]\n",
      " [ 27.66666667]\n",
      " [ 28.        ]]\n",
      "Example after normalization (one row of an image): [[-0.79947919]\n",
      " [-0.80729169]\n",
      " [-0.80989581]\n",
      " [-0.80989581]\n",
      " [-0.8046875 ]\n",
      " [-0.7890625 ]\n",
      " [-0.67447913]\n",
      " [-0.6953125 ]\n",
      " [-0.7265625 ]\n",
      " [-0.64322913]\n",
      " [-0.39322919]\n",
      " [-0.2734375 ]\n",
      " [-0.3984375 ]\n",
      " [-0.4140625 ]\n",
      " [-0.31770831]\n",
      " [-0.265625  ]\n",
      " [-0.41145831]\n",
      " [-0.51041663]\n",
      " [-0.6015625 ]\n",
      " [-0.63802087]\n",
      " [-0.58333337]\n",
      " [-0.51041663]\n",
      " [-0.65885413]\n",
      " [-0.66145837]\n",
      " [-0.6484375 ]\n",
      " [-0.69270837]\n",
      " [-0.75520831]\n",
      " [-0.77083331]\n",
      " [-0.77604169]\n",
      " [-0.78125   ]\n",
      " [-0.78385419]\n",
      " [-0.78125   ]]\n"
     ]
    }
   ],
   "source": [
    "### Preprocess the data here. It is required to normalize the data. Other preprocessing steps could include \n",
    "### converting to grayscale, etc.\n",
    "### Feel free to use as many code cells as needed.\n",
    "\n",
    "import numpy as np\n",
    "print('Example before normalization (one row of an image with averaged colors):', X_train_raw[0][0])\n",
    "X_train = (np.array(X_train_raw, dtype=np.float32) - 128) / 128\n",
    "X_valid = (np.array(X_valid_raw, dtype=np.float32) - 128) / 128\n",
    "X_test = (np.array(X_test_raw, dtype=np.float32) - 128) / 128\n",
    "print('Example after normalization (one row of an image):', X_train[0][0])"
   ]
  },
  {
   "cell_type": "markdown",
   "metadata": {},
   "source": [
    "### Model Architecture"
   ]
  },
  {
   "cell_type": "code",
   "execution_count": 7,
   "metadata": {},
   "outputs": [],
   "source": [
    "### Define your architecture here.\n",
    "### Feel free to use as many code cells as needed.\n",
    "\n",
    "from sklearn.utils import shuffle\n",
    "\n",
    "X_train, y_train = shuffle(X_train, y_train)"
   ]
  },
  {
   "cell_type": "code",
   "execution_count": 8,
   "metadata": {},
   "outputs": [],
   "source": [
    "import tensorflow as tf\n",
    "from tensorflow.contrib.layers import flatten\n",
    "\n",
    "SIGMA = 0.1\n",
    "\n",
    "\n",
    "# Layer 1: Convolutional. Input = 32x32x1. Output = 28x28x9.\n",
    "wc1 = tf.Variable(tf.random_normal([5, 5, 1, 9], stddev=SIGMA), name='wc1')\n",
    "bc1 = tf.Variable(tf.random_normal([9], stddev=SIGMA), name='bc1')\n",
    "\n",
    "# Layer 2: Convolutional. Output = 10x10x24.\n",
    "wc2 = tf.Variable(tf.random_normal([5, 5, 9, 24], stddev=SIGMA), name='wc2')\n",
    "bc2 = tf.Variable(tf.random_normal([24], stddev=SIGMA), name='bc2')\n",
    "\n",
    "# Layer 3: Fully Connected. Input = 600. Output = 200.\n",
    "wd1 = tf.Variable(tf.random_normal([600, 200], stddev=SIGMA), name='wd1')\n",
    "bd1 = tf.Variable(tf.random_normal([200], stddev=SIGMA), name='bd1')\n",
    "\n",
    "# Layer 4: Fully Connected. Input = 200. Output = 80.\n",
    "wd2 = tf.Variable(tf.random_normal([200, 80], stddev=SIGMA), name='wd2')\n",
    "bd2 = tf.Variable(tf.random_normal([80], stddev=SIGMA), name='wd2')\n",
    "\n",
    "# Layer 5: Fully Connected. Input = 80. Output = 43.\n",
    "wd3 = tf.Variable(tf.random_normal([80, n_classes], stddev=SIGMA), name='wd3')\n",
    "bd3 = tf.Variable(tf.random_normal([n_classes], stddev=SIGMA), name='bd3')"
   ]
  },
  {
   "cell_type": "code",
   "execution_count": 9,
   "metadata": {},
   "outputs": [],
   "source": [
    "KEEP_PROB = 1.0\n",
    "\n",
    "    \n",
    "def LeNet(x):    \n",
    "    \n",
    "    # Layer 1: Convolutional. Input = 32x32x1. Output = 28x28x9.\n",
    "    x = tf.nn.conv2d(x, wc1, strides=[1, 1, 1, 1], padding='VALID')\n",
    "    x = tf.nn.bias_add(x, bc1)\n",
    "    x = tf.nn.relu(x)\n",
    "\n",
    "    x = tf.nn.dropout(x, keep_prob=KEEP_PROB)\n",
    "\n",
    "    # Pooling. Input = 28x28x9. Output = 14x14x9.\n",
    "    x = tf.nn.max_pool(x, ksize=[1, 2, 2, 1], strides=[1, 2, 2, 1], padding='VALID')\n",
    "\n",
    "    # Layer 2: Convolutional. Output = 10x10x24.\n",
    "    x = tf.nn.conv2d(x, wc2, strides=[1, 1, 1, 1], padding='VALID')\n",
    "    x = tf.nn.bias_add(x, bc2)\n",
    "    x = tf.nn.relu(x)\n",
    "\n",
    "    x = tf.nn.dropout(x, keep_prob=KEEP_PROB)\n",
    "\n",
    "    # Pooling. Input = 10x10x24. Output = 5x5x24.\n",
    "    x = tf.nn.max_pool(x, ksize=[1, 2, 2, 1], strides=[1, 2, 2, 1], padding='VALID')\n",
    "\n",
    "    # Flatten. Input = 5x5x24. Output = 600.\n",
    "    x = tf.reshape(x, [-1, 600])\n",
    "  \n",
    "    # Layer 3: Fully Connected. Input = 600. Output = 200.\n",
    "    x = tf.add(tf.matmul(x, wd1), bd1)\n",
    "    x = tf.nn.relu(x)\n",
    "\n",
    "    x = tf.nn.dropout(x, keep_prob=KEEP_PROB)\n",
    "\n",
    "    # Layer 4: Fully Connected. Input = 200. Output = 80.\n",
    "    x = tf.add(tf.matmul(x, wd2), bd2)\n",
    "    x = tf.nn.relu(x)\n",
    "\n",
    "    # Layer 5: Fully Connected. Input = 80. Output = 43.\n",
    "    x = tf.add(tf.matmul(x, wd3), bd3)\n",
    "\n",
    "    return x"
   ]
  },
  {
   "cell_type": "markdown",
   "metadata": {},
   "source": [
    "### Train, Validate and Test the Model"
   ]
  },
  {
   "cell_type": "markdown",
   "metadata": {},
   "source": [
    "A validation set can be used to assess how well the model is performing. A low accuracy on the training and validation\n",
    "sets imply underfitting. A high accuracy on the training set but low accuracy on the validation set implies overfitting."
   ]
  },
  {
   "cell_type": "code",
   "execution_count": 10,
   "metadata": {},
   "outputs": [],
   "source": [
    "import tensorflow as tf\n",
    "glob_sess = tf.Session()"
   ]
  },
  {
   "cell_type": "code",
   "execution_count": 11,
   "metadata": {},
   "outputs": [],
   "source": [
    "### Train your model here.\n",
    "### Calculate and report the accuracy on the training and validation set.\n",
    "### Once a final model architecture is selected, \n",
    "### the accuracy on the test set should be calculated and reported as well.\n",
    "### Feel free to use as many code cells as needed.\n",
    "\n",
    "x = tf.placeholder(tf.float32, (None, 32, 32, 1))\n",
    "y = tf.placeholder(tf.int32, (None))\n",
    "one_hot_y = tf.one_hot(y, n_classes)"
   ]
  },
  {
   "cell_type": "code",
   "execution_count": 12,
   "metadata": {},
   "outputs": [],
   "source": [
    "rate = 0.001\n",
    "\n",
    "logits = LeNet(x)\n",
    "cross_entropy = tf.nn.softmax_cross_entropy_with_logits(labels=one_hot_y, logits=logits)\n",
    "loss_operation = tf.reduce_mean(cross_entropy)\n",
    "optimizer = tf.train.AdamOptimizer(learning_rate = rate)\n",
    "training_operation = optimizer.minimize(loss_operation)"
   ]
  },
  {
   "cell_type": "code",
   "execution_count": 26,
   "metadata": {},
   "outputs": [],
   "source": [
    "EPOCHS = 60\n",
    "BATCH_SIZE = 128\n",
    "\n",
    "correct_prediction = tf.equal(tf.argmax(logits, 1), tf.argmax(one_hot_y, 1))\n",
    "accuracy_operation = tf.reduce_mean(tf.cast(correct_prediction, tf.float32))\n",
    "saver = tf.train.Saver()\n",
    "\n",
    "def evaluate(X_data, y_data):\n",
    "    num_examples = len(X_data)\n",
    "    total_accuracy = 0\n",
    "    sess = tf.get_default_session()\n",
    "    for offset in range(0, num_examples, BATCH_SIZE):\n",
    "        batch_x, batch_y = X_data[offset:offset+BATCH_SIZE], y_data[offset:offset+BATCH_SIZE]\n",
    "        accuracy = sess.run(accuracy_operation, feed_dict={x: batch_x, y: batch_y})\n",
    "        total_accuracy += (accuracy * len(batch_x))\n",
    "    return total_accuracy / num_examples"
   ]
  },
  {
   "cell_type": "code",
   "execution_count": 27,
   "metadata": {
    "scrolled": true
   },
   "outputs": [
    {
     "name": "stdout",
     "output_type": "stream",
     "text": [
      "Training...\n",
      "\n",
      "EPOCH 1 train acc = 0.841, valid acc = 0.762\n",
      "EPOCH 2 train acc = 0.950, valid acc = 0.877\n",
      "EPOCH 3 train acc = 0.970, valid acc = 0.890\n",
      "EPOCH 4 train acc = 0.976, valid acc = 0.898\n",
      "EPOCH 5 train acc = 0.981, valid acc = 0.894\n",
      "EPOCH 6 train acc = 0.991, valid acc = 0.917\n",
      "EPOCH 7 train acc = 0.993, valid acc = 0.921\n",
      "EPOCH 8 train acc = 0.996, valid acc = 0.923\n",
      "EPOCH 9 train acc = 0.992, valid acc = 0.921\n",
      "EPOCH 10 train acc = 0.995, valid acc = 0.910\n",
      "EPOCH 11 train acc = 0.997, valid acc = 0.925\n",
      "EPOCH 12 train acc = 0.994, valid acc = 0.922\n",
      "EPOCH 13 train acc = 0.998, valid acc = 0.928\n",
      "EPOCH 14 train acc = 0.999, valid acc = 0.944\n",
      "EPOCH 15 train acc = 0.999, valid acc = 0.944\n",
      "EPOCH 16 train acc = 0.998, valid acc = 0.925\n",
      "EPOCH 17 train acc = 0.979, valid acc = 0.890\n",
      "EPOCH 18 train acc = 0.998, valid acc = 0.921\n",
      "EPOCH 19 train acc = 0.997, valid acc = 0.934\n",
      "EPOCH 20 train acc = 0.998, valid acc = 0.946\n",
      "EPOCH 21 train acc = 0.998, valid acc = 0.927\n",
      "EPOCH 22 train acc = 1.000, valid acc = 0.938\n",
      "EPOCH 23 train acc = 1.000, valid acc = 0.948\n",
      "EPOCH 24 train acc = 0.997, valid acc = 0.941\n",
      "EPOCH 25 train acc = 0.994, valid acc = 0.936\n",
      "EPOCH 26 train acc = 0.997, valid acc = 0.933\n",
      "EPOCH 27 train acc = 0.998, valid acc = 0.934\n",
      "EPOCH 28 train acc = 1.000, valid acc = 0.947\n",
      "EPOCH 29 train acc = 1.000, valid acc = 0.950\n",
      "EPOCH 30 train acc = 1.000, valid acc = 0.941\n",
      "EPOCH 31 train acc = 1.000, valid acc = 0.948\n",
      "EPOCH 32 train acc = 1.000, valid acc = 0.947\n",
      "EPOCH 33 train acc = 1.000, valid acc = 0.947\n",
      "EPOCH 34 train acc = 1.000, valid acc = 0.946\n",
      "EPOCH 35 train acc = 1.000, valid acc = 0.946\n",
      "EPOCH 36 train acc = 1.000, valid acc = 0.946\n",
      "EPOCH 37 train acc = 1.000, valid acc = 0.945\n",
      "EPOCH 38 train acc = 0.990, valid acc = 0.928\n",
      "EPOCH 39 train acc = 0.999, valid acc = 0.941\n",
      "EPOCH 40 train acc = 1.000, valid acc = 0.947\n",
      "EPOCH 41 train acc = 1.000, valid acc = 0.947\n",
      "EPOCH 42 train acc = 1.000, valid acc = 0.947\n",
      "EPOCH 43 train acc = 1.000, valid acc = 0.951\n",
      "EPOCH 44 train acc = 1.000, valid acc = 0.949\n",
      "EPOCH 45 train acc = 1.000, valid acc = 0.953\n",
      "EPOCH 46 train acc = 1.000, valid acc = 0.952\n",
      "EPOCH 47 train acc = 1.000, valid acc = 0.951\n",
      "EPOCH 48 train acc = 1.000, valid acc = 0.951\n",
      "EPOCH 49 train acc = 1.000, valid acc = 0.953\n",
      "EPOCH 50 train acc = 1.000, valid acc = 0.951\n",
      "EPOCH 51 train acc = 1.000, valid acc = 0.954\n",
      "EPOCH 52 train acc = 1.000, valid acc = 0.953\n",
      "EPOCH 53 train acc = 1.000, valid acc = 0.953\n",
      "EPOCH 54 train acc = 1.000, valid acc = 0.954\n",
      "EPOCH 55 train acc = 1.000, valid acc = 0.953\n",
      "EPOCH 56 train acc = 1.000, valid acc = 0.953\n",
      "EPOCH 57 train acc = 1.000, valid acc = 0.950\n",
      "EPOCH 58 train acc = 1.000, valid acc = 0.953\n",
      "EPOCH 59 train acc = 1.000, valid acc = 0.954\n",
      "EPOCH 60 train acc = 1.000, valid acc = 0.952\n",
      "Model saved\n"
     ]
    }
   ],
   "source": [
    "with glob_sess.as_default():\n",
    "    glob_sess.run(tf.global_variables_initializer())\n",
    "    num_examples = len(X_train)\n",
    "    \n",
    "    print(\"Training...\")\n",
    "    print()\n",
    "    for i in range(EPOCHS):\n",
    "        X_train, y_train = shuffle(X_train, y_train)\n",
    "        for offset in range(0, num_examples, BATCH_SIZE):\n",
    "            end = offset + BATCH_SIZE\n",
    "            batch_x, batch_y = X_train[offset:end], y_train[offset:end]\n",
    "            glob_sess.run(training_operation, feed_dict={x: batch_x, y: batch_y})\n",
    "            \n",
    "        training_accuracy = evaluate(X_train, y_train)\n",
    "        validation_accuracy = evaluate(X_valid, y_valid)\n",
    "        print(\"EPOCH {} \".format(i+1), end=\"\")\n",
    "        print(\"train acc = {:.3f}, valid acc = {:.3f}\".format(training_accuracy, validation_accuracy))\n",
    "        \n",
    "    saver.save(glob_sess, './lenet')\n",
    "    print(\"Model saved\")"
   ]
  },
  {
   "cell_type": "code",
   "execution_count": 30,
   "metadata": {},
   "outputs": [
    {
     "name": "stdout",
     "output_type": "stream",
     "text": [
      "Testing...\n",
      "\n",
      "Test acc = 0.937\n"
     ]
    }
   ],
   "source": [
    "with glob_sess.as_default():\n",
    "    print(\"Testing...\\n\")\n",
    "    test_accuracy = evaluate(X_test, y_test)\n",
    "    print(\"Test acc = {:.3f}\".format(test_accuracy))\n",
    " "
   ]
  },
  {
   "cell_type": "markdown",
   "metadata": {},
   "source": [
    "---\n",
    "\n",
    "## Step 3: Test a Model on New Images\n",
    "\n",
    "To give yourself more insight into how your model is working, download at least five pictures of German traffic signs from the web and use your model to predict the traffic sign type.\n",
    "\n",
    "You may find `signnames.csv` useful as it contains mappings from the class id (integer) to the actual sign name."
   ]
  },
  {
   "cell_type": "markdown",
   "metadata": {},
   "source": [
    "### Load Model"
   ]
  },
  {
   "cell_type": "code",
   "execution_count": 15,
   "metadata": {},
   "outputs": [],
   "source": [
    "#import tensorflow as tf\n",
    "\n",
    "#with glob_sess.as_default():\n",
    "#    glob_sess.run(tf.global_variables_initializer())\n",
    "#    saver = tf.train.import_meta_graph('./lenet.meta')\n",
    "#    saver.restore(glob_sess, './lenet')"
   ]
  },
  {
   "cell_type": "markdown",
   "metadata": {},
   "source": [
    "### Load and Output the Images"
   ]
  },
  {
   "cell_type": "code",
   "execution_count": 33,
   "metadata": {},
   "outputs": [
    {
     "name": "stdout",
     "output_type": "stream",
     "text": [
      "shape: (5, 32, 32, 3)\n"
     ]
    },
    {
     "data": {
      "image/png": "[encoded data removed]",
      "text/plain": [
       "<matplotlib.figure.Figure at 0x7f86e1ffcc18>"
      ]
     },
     "metadata": {
      "needs_background": "light"
     },
     "output_type": "display_data"
    }
   ],
   "source": [
    "### Load the images and plot them here.\n",
    "### Feel free to use as many code cells as needed.\n",
    "\n",
    "import numpy as np\n",
    "import glob\n",
    "import matplotlib.pyplot as plt\n",
    "files = glob.glob('./webimage/*.png')\n",
    "images = []\n",
    "\n",
    "i = 0\n",
    "fig, ax = plt.subplots(1, 5, figsize=(16,4))\n",
    "for file in files:\n",
    "    img = plt.imread(file)[..., 0:3]\n",
    "    ax[i].imshow(img)\n",
    "    ax[i].title.set_text(i)\n",
    "    i += 1\n",
    "    images.append(img)\n",
    "\n",
    "webimages=np.array(images)\n",
    "print('shape:', webimages.shape)"
   ]
  },
  {
   "cell_type": "markdown",
   "metadata": {},
   "source": [
    "### Predict the Sign Type for Each Image"
   ]
  },
  {
   "cell_type": "code",
   "execution_count": 34,
   "metadata": {
    "scrolled": false
   },
   "outputs": [
    {
     "name": "stdout",
     "output_type": "stream",
     "text": [
      "predictions: [24 37 31 12 22]\n"
     ]
    }
   ],
   "source": [
    "### Run the predictions here and use the model to output the prediction for each image.\n",
    "### Make sure to pre-process the images with the same pre-processing pipeline used earlier.\n",
    "### Feel free to use as many code cells as needed.\n",
    "\n",
    "web_X = preprocess_X(webimages)\n",
    "web_y = [24,37,31,12,22]\n",
    "\n",
    "predictions = tf.argmax(logits, axis=1)\n",
    "\n",
    "with glob_sess.as_default():\n",
    "    results = glob_sess.run(predictions, feed_dict={x: web_X})\n",
    "    print('predictions:', results)"
   ]
  },
  {
   "cell_type": "markdown",
   "metadata": {},
   "source": [
    "### Analyze Performance"
   ]
  },
  {
   "cell_type": "code",
   "execution_count": 35,
   "metadata": {},
   "outputs": [
    {
     "name": "stdout",
     "output_type": "stream",
     "text": [
      "Test accuracy on web images = 1.000\n",
      "0 found: Road narrows on the right                should be: Road narrows on the right               \n",
      "1 found: Go straight or left                      should be: Go straight or left                     \n",
      "2 found: Wild animals crossing                    should be: Wild animals crossing                   \n",
      "3 found: Priority road                            should be: Priority road                           \n",
      "4 found: Bumpy road                               should be: Bumpy road                              \n"
     ]
    }
   ],
   "source": [
    "### Calculate the accuracy for these 5 new images. \n",
    "### For example, if the model predicted 1 out of 5 signs correctly, it's 20% accurate on these new images.\n",
    "\n",
    "with glob_sess.as_default():\n",
    "    web_accuracy = evaluate(web_X, web_y)\n",
    "    print('Test accuracy on web images = {:.3f}'.format(web_accuracy))\n",
    "\n",
    "import pandas\n",
    "texts = pandas.read_csv('signnames.csv')\n",
    "texts = np.array(texts)\n",
    "#print(type(texts))\n",
    "for i in range(5):\n",
    "    text_idx_result = results[i]\n",
    "    text_idx_goal   = web_y[i]\n",
    "    #print('{}, {}'.format(text_idx_result, text_idx_goal))\n",
    "    print('{} found: {:40s} should be: {:40s}'.format(i, texts[text_idx_result, 1], texts[text_idx_goal, 1]))"
   ]
  },
  {
   "cell_type": "markdown",
   "metadata": {},
   "source": [
    "### Output Top 5 Softmax Probabilities For Each Image Found on the Web"
   ]
  },
  {
   "cell_type": "markdown",
   "metadata": {},
   "source": [
    "For each of the new images, print out the model's softmax probabilities to show the **certainty** of the model's predictions (limit the output to the top 5 probabilities for each image). [`tf.nn.top_k`](https://www.tensorflow.org/versions/r0.12/api_docs/python/nn.html#top_k) could prove helpful here. \n",
    "\n",
    "The example below demonstrates how tf.nn.top_k can be used to find the top k predictions for each image.\n",
    "\n",
    "`tf.nn.top_k` will return the values and indices (class ids) of the top k predictions. So if k=3, for each sign, it'll return the 3 largest probabilities (out of a possible 43) and the correspoding class ids.\n",
    "\n",
    "Take this numpy array as an example. The values in the array represent predictions. The array contains softmax probabilities for five candidate images with six possible classes. `tf.nn.top_k` is used to choose the three classes with the highest probability:\n",
    "\n",
    "```\n",
    "# (5, 6) array\n",
    "a = np.array([[ 0.24879643,  0.07032244,  0.12641572,  0.34763842,  0.07893497,\n",
    "         0.12789202],\n",
    "       [ 0.28086119,  0.27569815,  0.08594638,  0.0178669 ,  0.18063401,\n",
    "         0.15899337],\n",
    "       [ 0.26076848,  0.23664738,  0.08020603,  0.07001922,  0.1134371 ,\n",
    "         0.23892179],\n",
    "       [ 0.11943333,  0.29198961,  0.02605103,  0.26234032,  0.1351348 ,\n",
    "         0.16505091],\n",
    "       [ 0.09561176,  0.34396535,  0.0643941 ,  0.16240774,  0.24206137,\n",
    "         0.09155967]])\n",
    "```\n",
    "\n",
    "Running it through `sess.run(tf.nn.top_k(tf.constant(a), k=3))` produces:\n",
    "\n",
    "```\n",
    "TopKV2(values=array([[ 0.34763842,  0.24879643,  0.12789202],\n",
    "       [ 0.28086119,  0.27569815,  0.18063401],\n",
    "       [ 0.26076848,  0.23892179,  0.23664738],\n",
    "       [ 0.29198961,  0.26234032,  0.16505091],\n",
    "       [ 0.34396535,  0.24206137,  0.16240774]]), indices=array([[3, 0, 5],\n",
    "       [0, 1, 4],\n",
    "       [0, 5, 1],\n",
    "       [1, 3, 5],\n",
    "       [1, 4, 3]], dtype=int32))\n",
    "```\n",
    "\n",
    "Looking just at the first row we get `[ 0.34763842,  0.24879643,  0.12789202]`, you can confirm these are the 3 largest probabilities in `a`. You'll also notice `[3, 0, 5]` are the corresponding indices."
   ]
  },
  {
   "cell_type": "code",
   "execution_count": 36,
   "metadata": {
    "scrolled": true
   },
   "outputs": [
    {
     "name": "stdout",
     "output_type": "stream",
     "text": [
      "TopKV2(values=array([[ 0.05371086,  0.05005059,  0.04753229,  0.04217712,  0.04077079],\n",
      "       [ 0.05166327,  0.05085205,  0.04845585,  0.04752968,  0.04374883],\n",
      "       [ 0.04153796,  0.04054314,  0.04026009,  0.03914942,  0.03848377],\n",
      "       [ 0.05042225,  0.04909322,  0.04622104,  0.04360835,  0.04218929],\n",
      "       [ 0.03778839,  0.03704632,  0.03601244,  0.03496485,  0.03022673]], dtype=float32), indices=array([[29,  4, 14,  2,  8],\n",
      "       [14, 29,  8,  4, 27],\n",
      "       [ 4,  8,  2, 14, 27],\n",
      "       [ 8, 29, 14, 27, 38],\n",
      "       [ 2, 35,  8,  4, 14]], dtype=int32))\n"
     ]
    }
   ],
   "source": [
    "### Print out the top five softmax probabilities for the predictions on the German traffic sign images found on the web. \n",
    "### Feel free to use as many code cells as needed.\n",
    "\n",
    "soft = tf.nn.softmax(logits)\n",
    "top = tf.nn.top_k(soft, k=5)\n",
    "\n",
    "with tf.Session() as sess:\n",
    "    sess.run(tf.global_variables_initializer())\n",
    "    #print('logits:\\n', sess.run(logits, feed_dict={x: web_X}))\n",
    "    #print('softmax:\\n', sess.run(soft, feed_dict={x: web_X}))\n",
    "    top = sess.run(top, feed_dict={x: web_X})\n",
    "    print(top)"
   ]
  },
  {
   "cell_type": "markdown",
   "metadata": {},
   "source": [
    "#### Certainty graph\n",
    "The following graph shows for the test images how high confidency the model has compared to the subsequent four candidates."
   ]
  },
  {
   "cell_type": "code",
   "execution_count": 37,
   "metadata": {
    "scrolled": true
   },
   "outputs": [
    {
     "name": "stdout",
     "output_type": "stream",
     "text": [
      "[ 0.05371086  0.05005059  0.04753229  0.04217712  0.04077079]\n",
      "[ 0.05166327  0.05085205  0.04845585  0.04752968  0.04374883]\n",
      "[ 0.04153796  0.04054314  0.04026009  0.03914942  0.03848377]\n",
      "[ 0.05042225  0.04909322  0.04622104  0.04360835  0.04218929]\n",
      "[ 0.03778839  0.03704632  0.03601244  0.03496485  0.03022673]\n"
     ]
    },
    {
     "data": {
      "image/png": "[encoded data removed]",
      "text/plain": [
       "<matplotlib.figure.Figure at 0x7f86e1e1cac8>"
      ]
     },
     "metadata": {
      "needs_background": "light"
     },
     "output_type": "display_data"
    }
   ],
   "source": [
    "fig, axs = plt.subplots(5, figsize=(7, 8))\n",
    "for i, ax in enumerate(axs):\n",
    "    values = top.values[i]\n",
    "    print(top.values[i])\n",
    "    ax.bar(range(5), top.values[i])"
   ]
  },
  {
   "cell_type": "markdown",
   "metadata": {},
   "source": [
    "### Project Writeup\n",
    "\n",
    "Once you have completed the code implementation, document your results in a project writeup using this [template](https://github.com/udacity/CarND-Traffic-Sign-Classifier-Project/blob/master/writeup_template.md) as a guide. The writeup can be in a markdown or pdf file. "
   ]
  },
  {
   "cell_type": "markdown",
   "metadata": {},
   "source": [
    "> **Note**: Once you have completed all of the code implementations and successfully answered each question above, you may finalize your work by exporting the iPython Notebook as an HTML document. You can do this by using the menu above and navigating to  \\n\",\n",
    "    \"**File -> Download as -> HTML (.html)**. Include the finished document along with this notebook as your submission."
   ]
  },
  {
   "cell_type": "markdown",
   "metadata": {},
   "source": [
    "---\n",
    "\n",
    "## Step 4 (Optional): Visualize the Neural Network's State with Test Images\n",
    "\n",
    " This Section is not required to complete but acts as an additional excersise for understaning the output of a neural network's weights. While neural networks can be a great learning device they are often referred to as a black box. We can understand what the weights of a neural network look like better by plotting their feature maps. After successfully training your neural network you can see what it's feature maps look like by plotting the output of the network's weight layers in response to a test stimuli image. From these plotted feature maps, it's possible to see what characteristics of an image the network finds interesting. For a sign, maybe the inner network feature maps react with high activation to the sign's boundary outline or to the contrast in the sign's painted symbol.\n",
    "\n",
    " Provided for you below is the function code that allows you to get the visualization output of any tensorflow weight layer you want. The inputs to the function should be a stimuli image, one used during training or a new one you provided, and then the tensorflow variable name that represents the layer's state during the training process, for instance if you wanted to see what the [LeNet lab's](https://classroom.udacity.com/nanodegrees/nd013/parts/fbf77062-5703-404e-b60c-95b78b2f3f9e/modules/6df7ae49-c61c-4bb2-a23e-6527e69209ec/lessons/601ae704-1035-4287-8b11-e2c2716217ad/concepts/d4aca031-508f-4e0b-b493-e7b706120f81) feature maps looked like for it's second convolutional layer you could enter conv2 as the tf_activation variable.\n",
    "\n",
    "For an example of what feature map outputs look like, check out NVIDIA's results in their paper [End-to-End Deep Learning for Self-Driving Cars](https://devblogs.nvidia.com/parallelforall/deep-learning-self-driving-cars/) in the section Visualization of internal CNN State. NVIDIA was able to show that their network's inner weights had high activations to road boundary lines by comparing feature maps from an image with a clear path to one without. Try experimenting with a similar test to show that your trained network's weights are looking for interesting features, whether it's looking at differences in feature maps from images with or without a sign, or even what feature maps look like in a trained network vs a completely untrained one on the same sign image.\n",
    "\n",
    "<figure>\n",
    " <img src=\"visualize_cnn.png\" width=\"380\" alt=\"Combined Image\" />\n",
    " <figcaption>\n",
    " <p></p> \n",
    " <p style=\"text-align: center;\"> Your output should look something like this (above)</p> \n",
    " </figcaption>\n",
    "</figure>\n",
    " <p></p> \n"
   ]
  },
  {
   "cell_type": "code",
   "execution_count": 21,
   "metadata": {},
   "outputs": [],
   "source": [
    "### Visualize your network's feature maps here.\n",
    "### Feel free to use as many code cells as needed.\n",
    "\n",
    "# image_input: the test image being fed into the network to produce the feature maps\n",
    "# tf_activation: should be a tf variable name used during your training procedure that represents the calculated state of a specific weight layer\n",
    "# activation_min/max: can be used to view the activation contrast in more detail, by default matplot sets min and max to the actual min and max values of the output\n",
    "# plt_num: used to plot out multiple different weight feature map sets on the same block, just extend the plt number for each new feature map entry\n",
    "\n",
    "def outputFeatureMap(image_input, tf_activation, activation_min=-1, activation_max=-1 ,plt_num=1):\n",
    "    # Here make sure to preprocess your image_input in a way your network expects\n",
    "    # with size, normalization, ect if needed\n",
    "    # image_input =\n",
    "    # Note: x should be the same name as your network's tensorflow data placeholder variable\n",
    "    # If you get an error tf_activation is not defined it may be having trouble accessing the variable from inside a function\n",
    "    activation = tf_activation.eval(session=sess,feed_dict={x : image_input})\n",
    "    featuremaps = activation.shape[3]\n",
    "    plt.figure(plt_num, figsize=(15,15))\n",
    "    for featuremap in range(featuremaps):\n",
    "        plt.subplot(6,8, featuremap+1) # sets the number of feature maps to show on each row and column\n",
    "        plt.title('FeatureMap ' + str(featuremap)) # displays the feature map number\n",
    "        if activation_min != -1 & activation_max != -1:\n",
    "            plt.imshow(activation[0,:,:, featuremap], interpolation=\"nearest\", vmin =activation_min, vmax=activation_max, cmap=\"gray\")\n",
    "        elif activation_max != -1:\n",
    "            plt.imshow(activation[0,:,:, featuremap], interpolation=\"nearest\", vmax=activation_max, cmap=\"gray\")\n",
    "        elif activation_min !=-1:\n",
    "            plt.imshow(activation[0,:,:, featuremap], interpolation=\"nearest\", vmin=activation_min, cmap=\"gray\")\n",
    "        else:\n",
    "            plt.imshow(activation[0,:,:, featuremap], interpolation=\"nearest\", cmap=\"gray\")"
   ]
  },
  {
   "cell_type": "code",
   "execution_count": null,
   "metadata": {},
   "outputs": [],
   "source": []
  }
 ],
 "metadata": {
  "anaconda-cloud": {},
  "kernelspec": {
   "display_name": "Python 3",
   "language": "python",
   "name": "python3"
  },
  "language_info": {
   "codemirror_mode": {
    "name": "ipython",
    "version": 3
   },
   "file_extension": ".py",
   "mimetype": "text/x-python",
   "name": "python",
   "nbconvert_exporter": "python",
   "pygments_lexer": "ipython3",
   "version": "3.6.3"
  }
 },
 "nbformat": 4,
 "nbformat_minor": 1
}
